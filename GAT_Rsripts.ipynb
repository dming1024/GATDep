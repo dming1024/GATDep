{
 "cells": [
  {
   "cell_type": "markdown",
   "id": "4915863f-e2d9-47ed-8137-81af8d6a5818",
   "metadata": {},
   "source": [
    "Data preprocess Using R"
   ]
  },
  {
   "cell_type": "markdown",
   "id": "5301c1e5-59f3-44a5-9c13-6083f8ae279f",
   "metadata": {},
   "source": [
    "# GSVA\n",
    "\n",
    "take `1088 cancer cell lines expression data` as an example"
   ]
  },
  {
   "cell_type": "code",
   "execution_count": null,
   "id": "b7003af1-1ef4-4ed4-8a4f-772a0e983b70",
   "metadata": {},
   "outputs": [],
   "source": [
    "library(GSVA)\n",
    "library(msigdbr)\n",
    "library(data.table)\n",
    "library(dplyr)"
   ]
  },
  {
   "cell_type": "code",
   "execution_count": null,
   "id": "c9093828-37e7-4af4-b3aa-d9d0309f47e0",
   "metadata": {},
   "outputs": [],
   "source": [
    "fread(\"depmap_24Q4/OmicsExpressionProteinCodingGenesTPMLogp1BatchCorrected.csv\") %>% select(-c(1)) %>% as.data.frame() -> depmap_ccle_tpm\n",
    "rownames(depmap_ccle_tpm) = fread(\"depmap_24Q4/OmicsExpressionProteinCodingGenesTPMLogp1BatchCorrected.csv\") %>% pull(1)\n",
    "colnames(depmap_ccle_tpm) = gsub('\\\\s\\\\(.*','',colnames(depmap_ccle_tpm))\n",
    "\n",
    "signature_go_kegg_set<-readRDS('./datasets/signature_go_kegg_set_v2.rds')"
   ]
  },
  {
   "cell_type": "code",
   "execution_count": null,
   "id": "9e71ac6c-29fd-499f-b51d-a6f32012a3c7",
   "metadata": {},
   "outputs": [],
   "source": [
    "gsva_score_go_kegg <- gsva(as.matrix(t(depmap_ccle_tpm)), \n",
    "                           signature_go_kegg_set,\n",
    "                           kcdf=\"Gaussian\", \n",
    "                           verbose=TRUE)\n",
    "#gsva_score_go_kegg %>% write.csv(.,'gsva_score_go_kegg_v3.csv')"
   ]
  },
  {
   "cell_type": "code",
   "execution_count": null,
   "id": "37aba3b4-6ac3-48d2-acb0-f08f7d779825",
   "metadata": {},
   "outputs": [],
   "source": []
  },
  {
   "cell_type": "markdown",
   "id": "3b1a3299-ace2-4df3-afd1-a6a4a9e2b2e9",
   "metadata": {},
   "source": [
    "# GO/KEGG/GSEA "
   ]
  },
  {
   "cell_type": "code",
   "execution_count": null,
   "id": "918a20f0-1949-44ac-8f62-56166d841e1d",
   "metadata": {},
   "outputs": [],
   "source": [
    "#GSEA analysis\n",
    "library(msigdbr) \n",
    "library(GSEABase)\n",
    "b = msigdbr(species = \"Homo sapiens\", category = \"C2\")%>% dplyr::select(gs_name, gene_symbol)\n",
    "\n",
    "tmp_genes=M$score # gene dependency score\n",
    "names(tmp_genes)=M$genes #gene name\n",
    "gsearesults = clusterProfiler::GSEA(tmp_genes, TERM2GENE = b) "
   ]
  },
  {
   "cell_type": "code",
   "execution_count": null,
   "id": "e5bbcbb2-da7f-40ea-b5fc-7507b056e941",
   "metadata": {},
   "outputs": [],
   "source": [
    "#GO/KEGG\n",
    "library(stringr)\n",
    "library(stringi)\n",
    "library(clusterProfiler)\n",
    "library(org.Hs.eg.db)\n",
    "ego1 <- enrichGO(gene         = temp_deg, # candidate gene symbol\n",
    "                 OrgDb         = org.Hs.eg.db,\n",
    "                 keyType       = 'SYMBOL',\n",
    "                 ont           = \"CC\", # BP,MF,CC\n",
    "                 pAdjustMethod = \"BH\" \n",
    "                )\n",
    "\n",
    "library(KEGG.db)\n",
    "ego4<-enrichKEGG(gene =gene_id, # candidate gene entrez ID\n",
    "                 use_internal_data=T,\n",
    "                 organism = 'hsa')"
   ]
  },
  {
   "cell_type": "code",
   "execution_count": null,
   "id": "571b06d1-23c1-4dc9-9de5-f8d301a7505a",
   "metadata": {},
   "outputs": [],
   "source": []
  },
  {
   "cell_type": "code",
   "execution_count": null,
   "id": "f6598ab6-be09-471b-b78a-124ac412d3e1",
   "metadata": {},
   "outputs": [],
   "source": []
  },
  {
   "cell_type": "code",
   "execution_count": null,
   "id": "71ca0dbc-5dd1-4a86-93fe-a34d56f97a6f",
   "metadata": {},
   "outputs": [],
   "source": []
  },
  {
   "cell_type": "code",
   "execution_count": null,
   "id": "b9cfe4d8-e21a-490e-be06-f488e0d61d5b",
   "metadata": {},
   "outputs": [],
   "source": []
  }
 ],
 "metadata": {
  "kernelspec": {
   "display_name": "R361",
   "language": "R",
   "name": "ir361"
  },
  "language_info": {
   "codemirror_mode": "r",
   "file_extension": ".r",
   "mimetype": "text/x-r-source",
   "name": "R",
   "pygments_lexer": "r",
   "version": "3.6.1"
  }
 },
 "nbformat": 4,
 "nbformat_minor": 5
}
